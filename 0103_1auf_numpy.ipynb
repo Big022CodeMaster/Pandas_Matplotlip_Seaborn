{
 "cells": [
  {
   "cell_type": "markdown",
   "id": "41495173",
   "metadata": {},
   "source": [
    "# NumPy Excercise"
   ]
  },
  {
   "cell_type": "markdown",
   "id": "88bf7388",
   "metadata": {},
   "source": [
    "## Übung A - Array\n",
    "\n",
    "Übe den Umgang mit NumPy Arrays. In den Zellen ist jeweils Platz für Deinen Code."
   ]
  },
  {
   "cell_type": "code",
   "execution_count": null,
   "id": "430208e5",
   "metadata": {},
   "outputs": [],
   "source": [
    "# Importiere Numpy\n"
   ]
  },
  {
   "cell_type": "code",
   "execution_count": null,
   "id": "80279b8d",
   "metadata": {},
   "outputs": [],
   "source": [
    "name = ['Hans', 'Cornelia', 'Henning', 'Eva', 'Ida']\n",
    "skills = ['Python', 'Java', 'Python', 'C', 'Python']\n",
    "experience_level = [1, 2, 2, 3, 3]"
   ]
  },
  {
   "cell_type": "code",
   "execution_count": null,
   "id": "4b768781",
   "metadata": {},
   "outputs": [],
   "source": [
    "# Wandle die Listen in ein npArray um\n"
   ]
  },
  {
   "cell_type": "code",
   "execution_count": null,
   "id": "665edba4",
   "metadata": {},
   "outputs": [],
   "source": [
    "# Zeige Dir die Arrays an.\n"
   ]
  },
  {
   "cell_type": "code",
   "execution_count": null,
   "id": "de25bbc5",
   "metadata": {},
   "outputs": [],
   "source": [
    "# Bestimme den Datentyp der Elemente von name_array und experience_level_array:\n"
   ]
  },
  {
   "cell_type": "code",
   "execution_count": null,
   "id": "e135422c",
   "metadata": {},
   "outputs": [],
   "source": [
    "# Nutze die Hilfe um festzustellen, das diese Datentypen bedeuten.\n",
    "\n",
    "#help(np.dtype)\n"
   ]
  },
  {
   "cell_type": "code",
   "execution_count": null,
   "id": "8d65cb54",
   "metadata": {},
   "outputs": [],
   "source": [
    "# Was steht im 2.ten Element je array? Verwende print()\n"
   ]
  },
  {
   "cell_type": "code",
   "execution_count": null,
   "id": "0c1e1e60",
   "metadata": {},
   "outputs": [],
   "source": [
    "# Bestimme, wer alles Python kann!\n"
   ]
  },
  {
   "cell_type": "code",
   "execution_count": null,
   "id": "60cb8e39",
   "metadata": {},
   "outputs": [],
   "source": [
    "# oder als ListComprehension\n",
    "# !ohne else muss die if-bedingung am Ende stehen\n",
    "\n"
   ]
  },
  {
   "cell_type": "code",
   "execution_count": null,
   "id": "38a1181e",
   "metadata": {},
   "outputs": [],
   "source": [
    "# Lege eine strukturiertes Array an für die obigen Listen\n",
    "\n",
    "\n"
   ]
  },
  {
   "cell_type": "code",
   "execution_count": null,
   "id": "527348bb",
   "metadata": {},
   "outputs": [],
   "source": [
    "# Befülle diese mit den obigen Listen\n"
   ]
  },
  {
   "cell_type": "code",
   "execution_count": null,
   "id": "98ea5750",
   "metadata": {},
   "outputs": [],
   "source": [
    "# Was steckt hinter dem 2. Element\n"
   ]
  },
  {
   "cell_type": "code",
   "execution_count": null,
   "id": "10d51ddd",
   "metadata": {},
   "outputs": [],
   "source": [
    "# Wer kann Python?\n"
   ]
  },
  {
   "cell_type": "code",
   "execution_count": null,
   "id": "f75b4d05",
   "metadata": {},
   "outputs": [],
   "source": [
    "# Wer kann Python und ist kein Anfänger? Hinweis: Als \"und\" muss hier \"&\" verwendet werden\n"
   ]
  },
  {
   "cell_type": "code",
   "execution_count": null,
   "id": "d9285023",
   "metadata": {},
   "outputs": [],
   "source": [
    "# Was passiert im Hintergrund? (Zerlege die obige Abfrage und lasse Dir mittels print() die Infos ausgeben)\n",
    "\n"
   ]
  },
  {
   "cell_type": "markdown",
   "id": "3ab979f1",
   "metadata": {},
   "source": [
    "## Übung B - Matrix\n",
    "\n"
   ]
  },
  {
   "cell_type": "code",
   "execution_count": null,
   "id": "d8443bc4",
   "metadata": {},
   "outputs": [],
   "source": [
    "#Beispiele\n",
    "np_ex1  = np.array([[[1, 2], [3, 4]], [[5, 6], [7, 8]]])\n",
    "np_ex2 = np.array([[[1,2,3], [4,5,6]]])"
   ]
  },
  {
   "cell_type": "code",
   "execution_count": null,
   "id": "a91a7a31",
   "metadata": {},
   "outputs": [],
   "source": [
    "# Zeige Dir die Struktur an:\n"
   ]
  },
  {
   "cell_type": "code",
   "execution_count": null,
   "id": "9b775a63",
   "metadata": {},
   "outputs": [],
   "source": [
    "# ex1: Greife auf die 4 zu\n",
    "\n"
   ]
  },
  {
   "cell_type": "code",
   "execution_count": null,
   "id": "11db51ba",
   "metadata": {},
   "outputs": [],
   "source": [
    "# ex2: Greife auf die 5 zu\n",
    "\n"
   ]
  },
  {
   "cell_type": "code",
   "execution_count": null,
   "id": "fae900b0",
   "metadata": {},
   "outputs": [],
   "source": [
    "# Führe ein Slice bei ex1 durch. \n",
    "# Folgende Werte sollen enthalten sein: 3, 4, 7 und 8\n"
   ]
  },
  {
   "cell_type": "code",
   "execution_count": null,
   "id": "47357f72",
   "metadata": {},
   "outputs": [],
   "source": [
    "# Führe nochmals ein Slice bei ex1 durch.\n",
    "# Folgende Werte sollen enthalten sein: 2 und 5\n"
   ]
  },
  {
   "cell_type": "markdown",
   "id": "f44105be",
   "metadata": {},
   "source": [
    "### Der Zufall\n",
    "\n",
    "Entdecke **np.random**! Z.B. mit **np.random.randint(Start, Ende + 1, size = Anzahl)** kannst Du Zufallszahlen generieren"
   ]
  },
  {
   "cell_type": "code",
   "execution_count": null,
   "id": "a5d59938",
   "metadata": {},
   "outputs": [],
   "source": [
    "# Erzeuge 10 randint verteilte Zufallszahlen zwischen 3 und 20\n"
   ]
  },
  {
   "cell_type": "code",
   "execution_count": null,
   "id": "b4737737",
   "metadata": {},
   "outputs": [],
   "source": [
    "# Kannst Du auch 10 standardnormalverteilte Zufallszahlen erzeugen?\n",
    "# Wenn möglich, runde auf 2 Nachkommastellen\n"
   ]
  },
  {
   "cell_type": "code",
   "execution_count": null,
   "id": "1463668c",
   "metadata": {},
   "outputs": [],
   "source": [
    "# Bestimme von beiden Arrays von Numpy den Max, Min und Mittelwert\n"
   ]
  },
  {
   "cell_type": "code",
   "execution_count": null,
   "id": "eb7a4c45",
   "metadata": {},
   "outputs": [],
   "source": []
  },
  {
   "cell_type": "markdown",
   "id": "3219433f",
   "metadata": {},
   "source": [
    "## Beispiel Schuhe\n",
    "\n",
    "Ein Schuhhändler hat die Füße seiner Kundinnen gemessen und dazu die derzeit getragene Schuhgröße notiert. In dieser Liste sind die U.S. Schuhgrößen, EU Größen und die Länge der Füße von Frauen angegeben.\n",
    "\n",
    "Der Schuhhändler kommt auf Sie als angehender Data Scientist und fragt Sie, was er damit anfangen kann. Sie überlegen sich selbständig Use Case!\n",
    "\n",
    "**Mögliche Fragestellungen (Use Case)**\n",
    "\n",
    "    Passen die Schuhgrößen zu der Fußlänge der Frauen? \n",
    "    Wieviel Schuhgrößen gibt es? Wie oft ist jede Schuhgröße in der Liste enthalten?\n",
    "    In welcher Spanne (Min und Max) liegen die Längen der Füße?\n",
    "    Können Sie auch den Min und Max sowie den jeweiligen Mittelwert je Schuhgröße von den Füßen bestimmen?\n",
    "    Bilde eine Statistik über die passenden bzw. unpassenden Schuhgrößen zu den Fußlängen.\n",
    "    Stelle Dir selbst noch Fragen!\n",
    "    \n",
    "    Special: Ist es möglich die cm besser den Größen zuzuordnen? (Optional)\n",
    "\n",
    "\n",
    "**Hinweis zur Liste**\n",
    "\n",
    "Wir erstellen die Liste mittel Zufallszahlen und Umrechnungen:\n",
    "\n",
    "## Erstellung der Liste\n"
   ]
  },
  {
   "cell_type": "code",
   "execution_count": null,
   "id": "fd7f283e",
   "metadata": {},
   "outputs": [],
   "source": [
    "# Bilde einen array \"us_size\" mit 1000 zufälligen Integerzahlen um die Schuhgröße 7, 8 und 9 abzubilden\n",
    "#us_size = np.array([np.random.randint(7, 10, size = 1000)])\n"
   ]
  },
  {
   "cell_type": "code",
   "execution_count": null,
   "id": "4ef85ddb",
   "metadata": {},
   "outputs": [],
   "source": [
    "# der shape sollte (1000, ) sein!\n"
   ]
  },
  {
   "cell_type": "code",
   "execution_count": null,
   "id": "a99f142a",
   "metadata": {},
   "outputs": [],
   "source": [
    "# Bilde einen array \"eu_size\". Berechne jeweils die EU Größe aus dem us_size\n"
   ]
  },
  {
   "cell_type": "code",
   "execution_count": null,
   "id": "5cb95836",
   "metadata": {},
   "outputs": [],
   "source": [
    "# Bilde einen array \"feet_cm\". Hier gehen wir von obiger gegebenen Tabelle aus.\n",
    "# !!! Folgende Abweichungen sollen eingebunden werden:\n",
    "# Gegebene Fußlänge gem. Tabelle + 15 % von einer zufälligen Standardnormalverteilen Zufallszahl\n",
    "# Wenn möglich: auf 2 Stellen nach Komma runden:\n",
    "\n"
   ]
  },
  {
   "cell_type": "code",
   "execution_count": null,
   "id": "26c52d1f",
   "metadata": {},
   "outputs": [],
   "source": [
    "# Forme diese beiden arrays in ein strukturiertes array namens \"shoe\"\n",
    "# Erstelle einen leeren array\n"
   ]
  },
  {
   "cell_type": "code",
   "execution_count": null,
   "id": "9cd0bfda",
   "metadata": {},
   "outputs": [],
   "source": [
    "# Befülle diesen array mit den obigen arrays\n"
   ]
  },
  {
   "cell_type": "code",
   "execution_count": null,
   "id": "16d75ca7",
   "metadata": {},
   "outputs": [],
   "source": [
    "# Wieviel Füße existieren über einer Schuhröße von 24.5cm?\n"
   ]
  },
  {
   "cell_type": "code",
   "execution_count": null,
   "id": "def9c077",
   "metadata": {},
   "outputs": [],
   "source": [
    "# Wieviele Füße benutzen die US Größe 8? \n"
   ]
  },
  {
   "cell_type": "code",
   "execution_count": null,
   "id": "0a31cde5",
   "metadata": {},
   "outputs": [],
   "source": [
    "# Fantasie spielen lassen :-)"
   ]
  },
  {
   "cell_type": "code",
   "execution_count": null,
   "id": "6a4fc653",
   "metadata": {},
   "outputs": [],
   "source": []
  }
 ],
 "metadata": {
  "kernelspec": {
   "display_name": "Python 3.10.5 64-bit",
   "language": "python",
   "name": "python3"
  },
  "language_info": {
   "codemirror_mode": {
    "name": "ipython",
    "version": 3
   },
   "file_extension": ".py",
   "mimetype": "text/x-python",
   "name": "python",
   "nbconvert_exporter": "python",
   "pygments_lexer": "ipython3",
   "version": "3.10.5"
  },
  "toc": {
   "base_numbering": 1,
   "nav_menu": {},
   "number_sections": true,
   "sideBar": true,
   "skip_h1_title": false,
   "title_cell": "Table of Contents",
   "title_sidebar": "Contents",
   "toc_cell": false,
   "toc_position": {},
   "toc_section_display": true,
   "toc_window_display": false
  },
  "varInspector": {
   "cols": {
    "lenName": 16,
    "lenType": 16,
    "lenVar": 40
   },
   "kernels_config": {
    "python": {
     "delete_cmd_postfix": "",
     "delete_cmd_prefix": "del ",
     "library": "var_list.py",
     "varRefreshCmd": "print(var_dic_list())"
    },
    "r": {
     "delete_cmd_postfix": ") ",
     "delete_cmd_prefix": "rm(",
     "library": "var_list.r",
     "varRefreshCmd": "cat(var_dic_list()) "
    }
   },
   "types_to_exclude": [
    "module",
    "function",
    "builtin_function_or_method",
    "instance",
    "_Feature"
   ],
   "window_display": false
  },
  "vscode": {
   "interpreter": {
    "hash": "26de051ba29f2982a8de78e945f0abaf191376122a1563185a90213a26c5da77"
   }
  }
 },
 "nbformat": 4,
 "nbformat_minor": 5
}

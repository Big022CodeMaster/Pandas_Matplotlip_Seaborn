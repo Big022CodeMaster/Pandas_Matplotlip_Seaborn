{
 "cells": [
  {
   "cell_type": "markdown",
   "id": "e80c4ff7",
   "metadata": {},
   "source": [
    "## Test zur Selbstüberprüfung\n",
    "\n",
    "\n",
    "\n",
    "### Aufgabe 1\n",
    "\n",
    "Gegeben sei folgende Liste:"
   ]
  },
  {
   "cell_type": "code",
   "execution_count": null,
   "id": "e17d67cd",
   "metadata": {},
   "outputs": [],
   "source": [
    "aufg_1 = [4, 6, 7, 'Hallo', 9.88]"
   ]
  },
  {
   "cell_type": "code",
   "execution_count": null,
   "id": "24a01e76",
   "metadata": {},
   "outputs": [],
   "source": [
    "# a) Gebe den Wert 7 von aufg_1 aus:\n"
   ]
  },
  {
   "cell_type": "code",
   "execution_count": null,
   "id": "147babb7",
   "metadata": {},
   "outputs": [],
   "source": [
    "# b) Ersetze 'Hallo' in aufg_1 mit 'Servus':\n"
   ]
  },
  {
   "cell_type": "code",
   "execution_count": null,
   "id": "9136c934",
   "metadata": {},
   "outputs": [],
   "source": [
    "# c) Füge 3 der Liste aufg_1 hinzu:\n"
   ]
  },
  {
   "cell_type": "code",
   "execution_count": null,
   "id": "1df04e96",
   "metadata": {},
   "outputs": [],
   "source": [
    "# d) Bestimme die Anzahl der Einträge:\n"
   ]
  },
  {
   "cell_type": "code",
   "execution_count": null,
   "id": "cd28ccf4",
   "metadata": {},
   "outputs": [],
   "source": [
    "# d) Bilde die Summe der ersten drei Ziffern:\n",
    "\n"
   ]
  },
  {
   "cell_type": "code",
   "execution_count": null,
   "id": "022ddd56",
   "metadata": {},
   "outputs": [],
   "source": [
    "# e) Bestimme den Datentyp von 9.88\n"
   ]
  },
  {
   "cell_type": "markdown",
   "id": "7bb9f352",
   "metadata": {},
   "source": [
    "### Aufgabe 2\n",
    "\n",
    "Erstelle eine Liste mit Hilfe der List Comprehension\n",
    "+ 1000 Einträge.\n",
    "+ Laufvariable in 3er Schritte. Beginnend bei 0.\n",
    "+ Wenn Laufvariable durch 2 teilbar ist, soll 'gerade' in die neue Liste geschrieben werden.\n",
    "+ Ansonsten soll 'ungerade' in die Liste geschrieben werden.\n"
   ]
  },
  {
   "cell_type": "code",
   "execution_count": null,
   "id": "faef30c1",
   "metadata": {},
   "outputs": [],
   "source": []
  },
  {
   "cell_type": "code",
   "execution_count": null,
   "id": "321f62bf",
   "metadata": {},
   "outputs": [],
   "source": [
    "# Gebe die Anzahl der ungeraden Einträge aus:\n",
    "\n",
    "    "
   ]
  },
  {
   "cell_type": "code",
   "execution_count": null,
   "id": "6e4aab40",
   "metadata": {},
   "outputs": [],
   "source": []
  },
  {
   "cell_type": "code",
   "execution_count": null,
   "id": "b8c37059",
   "metadata": {},
   "outputs": [],
   "source": []
  }
 ],
 "metadata": {
  "kernelspec": {
   "display_name": "Python 3 (ipykernel)",
   "language": "python",
   "name": "python3"
  },
  "language_info": {
   "codemirror_mode": {
    "name": "ipython",
    "version": 3
   },
   "file_extension": ".py",
   "mimetype": "text/x-python",
   "name": "python",
   "nbconvert_exporter": "python",
   "pygments_lexer": "ipython3",
   "version": "3.9.12"
  }
 },
 "nbformat": 4,
 "nbformat_minor": 5
}
